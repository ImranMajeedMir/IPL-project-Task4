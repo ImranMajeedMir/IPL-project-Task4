{
  "nbformat": 4,
  "nbformat_minor": 0,
  "metadata": {
    "colab": {
      "provenance": [],
      "authorship_tag": "ABX9TyMz8Ty/8+PypJ0K2ApDe5qb",
      "include_colab_link": true
    },
    "kernelspec": {
      "name": "python3",
      "display_name": "Python 3"
    },
    "language_info": {
      "name": "python"
    }
  },
  "cells": [
    {
      "cell_type": "markdown",
      "metadata": {
        "id": "view-in-github",
        "colab_type": "text"
      },
      "source": [
        "<a href=\"https://colab.research.google.com/github/ImranMajeedMir/IPL-project-Task4/blob/main/ist_colab.ipynb\" target=\"_parent\"><img src=\"https://colab.research.google.com/assets/colab-badge.svg\" alt=\"Open In Colab\"/></a>"
      ]
    },
    {
      "cell_type": "markdown",
      "source": [
        "#Basic"
      ],
      "metadata": {
        "id": "QIGB71KGfyVE"
      }
    },
    {
      "cell_type": "markdown",
      "source": [
        "#### Airthmetic"
      ],
      "metadata": {
        "id": "rpjIDNSGf5GG"
      }
    },
    {
      "cell_type": "code",
      "execution_count": null,
      "metadata": {
        "id": "CBTrSFiJ3Ok_"
      },
      "outputs": [],
      "source": [
        "varName = 5\n",
        "var_name = 3\n",
        "c1 = varName + var_name\n",
        "print(c1)"
      ]
    },
    {
      "cell_type": "code",
      "source": [
        "d = a*b\n",
        "print(d)"
      ],
      "metadata": {
        "id": "a9XM-UgK6soZ"
      },
      "execution_count": null,
      "outputs": []
    },
    {
      "cell_type": "code",
      "source": [
        "\n",
        "a = int(input(\"Enter the value of a:\"))\n",
        "b = int(input(\"Enter the value of b:\"))\n",
        "add = a+b\n",
        "sub = a-b\n",
        "mul = a*b\n",
        "div = a/b\n",
        "mod = a%b\n",
        "print(\"sum: {0}, Diff: {1}, MUl: {2}, Div: {3}, Mod: {4}\" .format(add,sub,mul,div,mod))\n",
        "\n",
        "\n",
        "\n"
      ],
      "metadata": {
        "id": "goLe1Xilhd64"
      },
      "execution_count": null,
      "outputs": []
    },
    {
      "cell_type": "code",
      "source": [
        "a = int(input(\"Enter the value of a:\"))\n",
        "b = int(input(\"Enter the value of b:\"))\n",
        "add = a+b\n",
        "sub = a-b\n",
        "mul = a*b\n",
        "div = a/b\n",
        "mod = a%b\n",
        "print(\"Sum: %d, diff: %d, mult: %d, divi: %25.3f, Mod: %d\" %(add,sub,mul,div,mod))#padding and precission"
      ],
      "metadata": {
        "id": "ikFX_5wFoxy6"
      },
      "execution_count": null,
      "outputs": []
    },
    {
      "cell_type": "code",
      "source": [
        "print(\"{0:<4}  | {1:<4} |  {2:<4} | {3:<4}\"  .format(\"Sum\", \"Diff\", \"Mul\", \"Div\", \"Mod\"))\n",
        "print(\"{0:<4}  | {1:<4} |  {2:<4} | {3:<4}\"   .format(add,sub,mul,div,mod))"
      ],
      "metadata": {
        "id": "tw7324z7rf45"
      },
      "execution_count": null,
      "outputs": []
    },
    {
      "cell_type": "code",
      "source": [
        "a = 2\n",
        "b = 3\n",
        "power = 2**3\n",
        "print(power)"
      ],
      "metadata": {
        "id": "QeDVfTnVEGfb"
      },
      "execution_count": null,
      "outputs": []
    },
    {
      "cell_type": "code",
      "source": [
        "a= \"python\"\n",
        "b = 'Bootcamp'\n",
        "print(a+b)"
      ],
      "metadata": {
        "id": "-QEExkrtE2HU"
      },
      "execution_count": null,
      "outputs": []
    },
    {
      "cell_type": "code",
      "source": [
        "a = 'champ'\n",
        "print(len(a))"
      ],
      "metadata": {
        "id": "OLKp-zpGFkWS"
      },
      "execution_count": null,
      "outputs": []
    },
    {
      "cell_type": "code",
      "source": [
        "a = 's'\n",
        "print(a*5)"
      ],
      "metadata": {
        "id": "LShHyZ5gFrf4"
      },
      "execution_count": null,
      "outputs": []
    },
    {
      "cell_type": "code",
      "source": [
        "a = 'champ'\n",
        "print(a[3])\n",
        "print(a[2:])\n",
        "print(a[:2])\n",
        "print(a[::2])\n",
        "print(a[-1])\n",
        "print(a[:-1])\n",
        "print(a[-2:])\n",
        "print(a[::-1])\n",
        "print(a[0:4])\n",
        "print(a[-3:-1])"
      ],
      "metadata": {
        "id": "-qMbCQ2QGdD3"
      },
      "execution_count": null,
      "outputs": []
    },
    {
      "cell_type": "code",
      "source": [
        "a = 'Master Class'\n",
        "print(a.upper())\n",
        "print(a.lower())\n",
        "b = a.split()\n",
        "print(b)\n",
        "print(b[1])"
      ],
      "metadata": {
        "id": "IEHEK94cJJyV"
      },
      "execution_count": null,
      "outputs": []
    },
    {
      "cell_type": "code",
      "source": [
        "a = 'imran,asif,faisal'\n",
        "print(a.split())\n",
        "print(a[0])\n",
        "b = a.split(',')\n",
        "print(b)\n",
        "print(b[0])"
      ],
      "metadata": {
        "id": "jheSEvKQKRpC"
      },
      "execution_count": null,
      "outputs": []
    },
    {
      "cell_type": "code",
      "source": [
        "a = 'welcome to'\n",
        "print(f'python master class {a}!')\n",
        "print(f'{a} python master class!')"
      ],
      "metadata": {
        "id": "ruejZfliL5ai"
      },
      "execution_count": null,
      "outputs": []
    },
    {
      "cell_type": "code",
      "source": [
        "l = [1,3,4,5,6]\n",
        "b = ['champ',23,2.3]\n",
        "print(l,b)\n",
        "print(len(l))\n",
        "print(len(b))\n",
        "print(l[2])\n",
        "print(l[1:])\n",
        "print(b[1])\n",
        "print(b[0:1])\n",
        "print(l+b)"
      ],
      "metadata": {
        "id": "43rAGXhLMoHd"
      },
      "execution_count": null,
      "outputs": []
    },
    {
      "cell_type": "code",
      "source": [
        "a = [1,2,3,4]\n",
        "a.append(6)\n",
        "print(a)\n",
        "a.reverse()\n",
        "print(a)"
      ],
      "metadata": {
        "id": "K8KCUaR5ODIe"
      },
      "execution_count": null,
      "outputs": []
    },
    {
      "cell_type": "code",
      "source": [
        "a = [1,2,3]\n",
        "b = [4,5,6]\n",
        "c = [a,b]\n",
        "print(c)\n",
        "print(c[0])\n",
        "print(c[1][1])"
      ],
      "metadata": {
        "id": "ie4bxBFiO9Kf"
      },
      "execution_count": null,
      "outputs": []
    },
    {
      "cell_type": "code",
      "source": [
        "a = {'name':'imran', 'age': 25, 'school' : ['ku','cu']}\n",
        "print(a)\n",
        "print(a['name'])\n",
        "a['age'] = 27\n",
        "print(a['age'])\n",
        "print(a.keys())\n",
        "print(a.values())\n",
        "print(a.items())"
      ],
      "metadata": {
        "colab": {
          "base_uri": "https://localhost:8080/"
        },
        "id": "6AEQjdZRPvQo",
        "outputId": "771ef13e-eb8d-4745-8fb9-728077f5f9bd"
      },
      "execution_count": 84,
      "outputs": [
        {
          "output_type": "stream",
          "name": "stdout",
          "text": [
            "{'name': 'imran', 'age': 25, 'school': ['ku', 'cu']}\n",
            "imran\n",
            "27\n",
            "dict_keys(['name', 'age', 'school'])\n",
            "dict_values(['imran', 27, ['ku', 'cu']])\n",
            "dict_items([('name', 'imran'), ('age', 27), ('school', ['ku', 'cu'])])\n"
          ]
        }
      ]
    },
    {
      "cell_type": "code",
      "source": [
        "a = {'climate':{'condition':{'temperature': '38 degree', 'humidity' : '70 percentage'}}}\n",
        "print(a)\n",
        "print(a['climate']['condition']['humidity'])\n",
        "print(a.keys())"
      ],
      "metadata": {
        "colab": {
          "base_uri": "https://localhost:8080/"
        },
        "id": "7iS9UGQSRUlI",
        "outputId": "d0f74308-cf1f-459e-f14f-95a6f3589b9d"
      },
      "execution_count": 81,
      "outputs": [
        {
          "output_type": "stream",
          "name": "stdout",
          "text": [
            "{'climate': {'condition': {'temperature': '38 degree', 'humidity': '70 percentage'}}}\n",
            "70 percentage\n",
            "dict_keys(['climate'])\n"
          ]
        }
      ]
    }
  ]
}